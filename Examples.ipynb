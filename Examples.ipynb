{
 "cells": [
  {
   "cell_type": "code",
   "execution_count": null,
   "id": "86364895",
   "metadata": {},
   "outputs": [],
   "source": [
    ":extension OverloadedStrings"
   ]
  },
  {
   "cell_type": "code",
   "execution_count": null,
   "id": "b5c63bd5",
   "metadata": {},
   "outputs": [],
   "source": [
    "import BellKAT.Definitions hiding ((<.>), test)\n",
    "import BellKAT.Drawing\n",
    "import BellKAT.DSL"
   ]
  },
  {
   "cell_type": "code",
   "execution_count": null,
   "id": "c4999156",
   "metadata": {},
   "outputs": [],
   "source": [
    "p1 = (trans \"A\" (\"A\", \"C\")<||> trans \"B\" (\"C\", \"B\")) <> trans \"A\" (\"A\", \"B\")\n",
    "drawStarOrderedPolicySteps $ \n",
    "                (create \"A\" <||> create \"A\" <||> create \"A\" ) <> \n",
    "               ( p1 <> swap \"A\" (\"B\", \"C\") <||> p1 <> swap \"A\" (\"B\", \"C\"))"
   ]
  },
  {
   "cell_type": "code",
   "execution_count": null,
   "id": "75fd6e98",
   "metadata": {},
   "outputs": [],
   "source": [
    "pABChecked = (test (\"A\" /~? \"B\") <.>  create \"A\" <> trans \"A\" (\"A\", \"B\") \n",
    "                  <||> test (\"A\" /~? \"B\") <.> create \"A\" <> trans \"A\" (\"A\", \"B\"))\n",
    "               <> distill (\"A\", \"B\")\n",
    "drawStarOrderedPolicySteps $ \n",
    "    (mempty <+> pABChecked <+> pABChecked <> pABChecked <+> pABChecked <> pABChecked <> pABChecked) \n",
    "    <> test (\"A\" ~~? \"B\")"
   ]
  },
  {
   "cell_type": "code",
   "execution_count": null,
   "id": "525701c2",
   "metadata": {},
   "outputs": [],
   "source": [
    "pABChecked = (test (\"A\" /~? \"B\") <.> create \"A\" .% dupA <> trans \"A\" (\"A\", \"B\") .% dupA\n",
    "                  <||> test (\"A\" /~? \"B\") <.> create \"A\" .% dupA <> trans \"A\" (\"A\", \"B\") .% dupA)\n",
    "               <> distill (\"A\", \"B\")\n",
    "drawStarOrderedPolicySteps $ \n",
    "    (mempty <+> pABChecked <+> pABChecked <> pABChecked <+> pABChecked <> pABChecked <> pABChecked) \n",
    "    <> test (\"A\" ~~? \"B\")"
   ]
  },
  {
   "cell_type": "code",
   "execution_count": null,
   "id": "3274109d",
   "metadata": {},
   "outputs": [],
   "source": [
    "pABChecked = (test (\"A\" /~? \"B\") <.> create \"B\" <.> create \"A\" .% dupA <> trans \"A\" (\"A\", \"B\") .% dupA\n",
    "                  <||> test (\"A\" /~? \"B\") <.> create \"A\" .% dupA <> trans \"A\" (\"A\", \"B\") .% dupA)\n",
    "               <> distill (\"A\", \"B\")\n",
    "drawStarOrderedPolicySteps $ \n",
    "    (mempty <+> pABChecked <+> pABChecked <> pABChecked <+> pABChecked <> pABChecked <> pABChecked) \n",
    "    <> test (\"A\" ~~? \"B\")"
   ]
  },
  {
   "cell_type": "code",
   "execution_count": null,
   "id": "a6e359e3",
   "metadata": {},
   "outputs": [],
   "source": [
    "pABChecked = (test (\"A\" /~? \"B\") <.> create \"A\" .% dupA <> trans \"A\" (\"A\", \"B\") .% dupA\n",
    "                  <||> test (\"A\" /~? \"B\") <.> create \"A\" .% dupA <> trans \"A\" (\"A\", \"B\") .% dupA)\n",
    "               <> distill (\"A\", \"B\")\n",
    "drawStarOrderedPolicySteps $ star pABChecked"
   ]
  },
  {
   "cell_type": "code",
   "execution_count": null,
   "id": "3d28a4f3",
   "metadata": {},
   "outputs": [],
   "source": [
    "pABUnchecked = (create \"A\" .% dupA <> trans \"A\" (\"A\", \"B\") .% dupA\n",
    "                  <||> create \"A\" .% dupA <> trans \"A\" (\"A\", \"B\") .% dupA)\n",
    "               <> distill (\"A\", \"B\") .~ 2\n",
    "pABChecked = (test (\"A\" /~? \"B\") <.> create \"A\" .% dupA <> trans \"A\" (\"A\", \"B\") .% dupA\n",
    "                  <||> test (\"A\" /~? \"B\") <.> create \"A\" .% dupA <> trans \"A\" (\"A\", \"B\") .% dupA)\n",
    "               <> distill (\"A\", \"B\") .~ 2\n",
    "drawStarOrderedPolicySteps $ pABUnchecked <> star pABChecked <> test (\"A\" ~~? \"B\") .~ 2"
   ]
  },
  {
   "cell_type": "code",
   "execution_count": null,
   "id": "49cb621a",
   "metadata": {},
   "outputs": [],
   "source": [
    "pABUnchecked = (create \"A\" .% dupA <> trans \"A\" (\"A\", \"B\") .% dupA\n",
    "                  <||> create \"A\" .% dupA <> trans \"A\" (\"A\", \"B\") .% dupA)\n",
    "               <> distill (\"A\", \"B\") .~ 2\n",
    "pABChecked = (test (\"A\" /~? \"B\") <.> create \"A\" .% dupA <> trans \"A\" (\"A\", \"B\") .% dupA\n",
    "                  <||> test (\"A\" /~? \"B\") <.> create \"A\" .% dupA <> trans \"A\" (\"A\", \"B\") .% dupA)\n",
    "               <> distill (\"A\", \"B\") .~ 2\n",
    "drawStarOrderedPolicySteps $ star pABChecked <> test (\"A\" ~~? \"B\") .~ 2"
   ]
  },
  {
   "cell_type": "code",
   "execution_count": null,
   "id": "6dff8c4c",
   "metadata": {
    "scrolled": true
   },
   "outputs": [],
   "source": [
    "p = (create \"A\" <||> create \"B\") <> (trans \"A\" (\"A\", \"R[AB]\") <||> trans \"B\" (\"B\", \"R[AB]\")) <> swap \"R[AB]\" (\"A\", \"B\")\n",
    "    \n",
    "drawPolicyTimely $ (p <||> p) <> distill (\"A\", \"B\")"
   ]
  },
  {
   "cell_type": "code",
   "execution_count": null,
   "id": "872e5c75",
   "metadata": {
    "scrolled": true
   },
   "outputs": [],
   "source": [
    "drawPolicyTimely $ (create \"A\" <||> create \"A\" <||> create \"A\" <||> create \"B\") <> (trans \"A\" (\"A\", \"R[AB]\") <||> trans \"A\" (\"A\", \"R[AB]\") <||> trans \"B\" (\"B\", \"R[AB]\")) <> swap \"R[AB]\" (\"A\", \"B\"){- want to see both choices for Swap -}\n"
   ]
  },
  {
   "cell_type": "code",
   "execution_count": null,
   "id": "89df1654",
   "metadata": {},
   "outputs": [],
   "source": [
    "drawPolicyTimely $ \n",
    "    (create \"A\" <> trans \"A\" (\"A\", \"R[AB]\")) \n",
    "    <||> (create \"B\" <> trans \"A\" (\"A\", \"R[AB]\")) \n",
    "    <||> (create \"A\" <> trans \"B\" (\"B\", \"R[AB]\"))\n",
    "    <||> create \"B\""
   ]
  },
  {
   "cell_type": "code",
   "execution_count": null,
   "id": "cdd26260",
   "metadata": {},
   "outputs": [],
   "source": [
    "pAB = (create \"A\" <||> create \"B\") <> (trans \"A\" (\"A\", \"R[AB]\") <||> trans \"B\" (\"B\", \"R[AB]\")) <> swap \"R[AB]\" (\"A\", \"B\")\n",
    "pCR = ((create \"C\" <> trans \"C\" (\"C\", \"R[BC]\")) <||> (create \"C\" <> trans \"C\" (\"C\", \"R[BC]\"))) <> distill (\"C\", \"R[BC]\")\n",
    "\n",
    "drawPolicyTimely$  ((pAB <||> pAB) <> distill (\"A\", \"B\")) <||> (pCR <||> (create \"B\" <> trans \"B\" (\"B\", \"R[BC]\")) )"
   ]
  },
  {
   "cell_type": "code",
   "execution_count": null,
   "id": "8a7de9da",
   "metadata": {},
   "outputs": [],
   "source": [
    "p1 = (trans \"A\" (\"A\", \"C\") <||> trans \"B\" (\"C\", \"B\")) <> trans \"A\" (\"A\", \"B\") \n",
    "p1' = (\"x\" ?~ trans \"A\" (\"A\", \"C\") .~ 'x' <||> trans \"B\" (\"C\", \"B\")) <> trans \"A\" (\"A\", \"B\") \n",
    "drawPolicySteps  $ (create \"A\" .~ 'x' <||> create \"A\"  <||> create \"A\") <> (p1 <||> p1') <> swap \"A\" (\"B\", \"C\")"
   ]
  },
  {
   "cell_type": "code",
   "execution_count": null,
   "id": "0a0c82a8",
   "metadata": {},
   "outputs": [],
   "source": [
    "p1 = (trans \"S1\" (\"A\", \"R\") <||> trans \"S1\" (\"A\", \"R\")) <> distill (\"A\", \"R\")\n",
    "p2 = (trans \"S2\" (\"B\", \"R\") <||> trans \"S2\" (\"B\", \"R\")) <> distill (\"B\", \"R\")\n",
    "drawPolicySteps  $ (create \"S1\" <||> create \"S2\") <> (p1 <||> p2) <> swap \"R\" (\"A\", \"B\")\n"
   ]
  },
  {
   "cell_type": "code",
   "execution_count": null,
   "id": "04b6c0c8",
   "metadata": {},
   "outputs": [],
   "source": [
    "p1 = (trans \"S1\" (\"A\", \"R\") <||> trans \"S1\" (\"A\", \"R\")) <> distill (\"A\", \"R\")\n",
    "p2 = (trans \"S2\" (\"B\", \"R\") <||> trans \"S2\" (\"B\", \"R\")) <> distill (\"B\", \"R\")\n",
    "p3 = (create \"S1\" <||> create \"S2\") <> (p1 <||> p2) <> swap \"R\" (\"A\", \"B\")\n",
    "drawPolicySteps  $ p3 <||> p3\n"
   ]
  },
  {
   "cell_type": "code",
   "execution_count": null,
   "id": "44544eaf",
   "metadata": {},
   "outputs": [],
   "source": [
    "p1 = (trans \"S1\" (\"A\", \"R\") <||> trans \"S1\" (\"A\", \"R\")) <> distill (\"A\", \"R\")\n",
    "p2 = (trans \"S2\" (\"B\", \"R\") <||> trans \"S2\" (\"B\", \"R\")) <> distill (\"B\", \"R\")\n",
    "p3 = (create \"S1\" <||> create \"S2\") <> (p1 <||> p2) <> swap \"R\" (\"A\", \"B\")\n",
    "drawPolicySteps  $ id + p3 <||> lift <>  p3 <||> lift^2 <>  p3 <||> lift^3 <>  p3...\n"
   ]
  },
  {
   "cell_type": "code",
   "execution_count": null,
   "id": "852c89b4",
   "metadata": {
    "scrolled": false
   },
   "outputs": [],
   "source": [
    "p1 = (trans \"S1\" (\"A\", \"R\") <||> trans \"S1\" (\"A\", \"R\")) <> distill (\"A\", \"R\") .% dupA -- <- dupAfter\n",
    "p2 = (trans \"S2\" (\"B\", \"R\") <||> trans \"S2\" (\"B\", \"R\")) <> distill (\"B\", \"R\").% dupA\n",
    "drawPolicySteps  $ (create \"S1\" <||> create \"S1\"  <||> create \"S2\" <||> create \"S2\") <> (p1 <||> p2) \n",
    "                    <> swap \"R\" (\"A\", \"B\")"
   ]
  },
  {
   "cell_type": "code",
   "execution_count": null,
   "id": "2252693e",
   "metadata": {},
   "outputs": [],
   "source": []
  }
 ],
 "metadata": {
  "kernelspec": {
   "display_name": "Haskell",
   "language": "haskell",
   "name": "haskell"
  },
  "language_info": {
   "codemirror_mode": "ihaskell",
   "file_extension": ".hs",
   "mimetype": "text/x-haskell",
   "name": "haskell",
   "pygments_lexer": "Haskell",
   "version": "9.2.8"
  }
 },
 "nbformat": 4,
 "nbformat_minor": 5
}
