{
 "cells": [
  {
   "cell_type": "code",
   "execution_count": null,
   "id": "f98d0c0b",
   "metadata": {},
   "outputs": [],
   "source": [
    ":extension OverloadedStrings\n",
    ":extension MultiParamTypeClasses\n",
    ":extension GeneralizedNewtypeDeriving\n",
    ":extension DerivingStrategies\n",
    ":extension ScopedTypeVariables\n",
    ":extension FunctionalDependencies\n",
    ":extension TypeFamilies\n",
    ":extension FlexibleContexts\n",
    ":extension FlexibleInstances\n",
    ":extension TypeApplications\n",
    ":set -isrc"
   ]
  },
  {
   "cell_type": "code",
   "execution_count": null,
   "id": "b5c63bd5",
   "metadata": {},
   "outputs": [],
   "source": [
    ":load src/QNKAT/Definitions.hs\n",
    ":load src/QNKAT/Implementations/OneStepHistoryQuantum.hs\n",
    ":load src/QNKAT/Drawing.hs\n",
    ":load src/QNKAT/DSL.hs\n",
    ":load src/QNKAT/Test.hs\n",
    "\n",
    "import QNKAT.Definitions hiding ((<.>), test)"
   ]
  },
  {
   "cell_type": "markdown",
   "id": "610c304c",
   "metadata": {},
   "source": [
    "[Documentation](https://quantum.pschuprikov.me:8080/?=&hoogle=qnkat%20is%3Apackage&scope=set:all)"
   ]
  },
  {
   "cell_type": "code",
   "execution_count": null,
   "id": "b38536aa",
   "metadata": {},
   "outputs": [],
   "source": [
    "b = test (\"A\" ~~? \"B\")\n",
    "notb = test (\"A\" /~? \"B\")\n",
    "p1 = notb <.> create \"A\" <||> notb <.> create \"B\" \n",
    "p2 = trans \"A\" (\"A\", \"C\") <||> trans \"B\" (\"B\", \"C\")\n",
    "p3 = swap \"C\" (\"A\", \"B\")\n",
    "s = b <+> p1 <+> p2 <+> p3\n",
    "\n",
    "drawFullOrderedPolicySteps $ s"
   ]
  },
  {
   "cell_type": "code",
   "execution_count": null,
   "id": "d5efe69d",
   "metadata": {},
   "outputs": [],
   "source": [
    "b = test (\"A\" ~~? \"B\")\n",
    "notb = test (\"A\" /~? \"B\")\n",
    "p1 = notb <.> create \"A\" <||> notb <.> create \"B\" \n",
    "p2 = trans \"A\" (\"A\", \"C\") <||> trans \"B\" (\"B\", \"C\")\n",
    "p3 = swap \"C\" (\"A\", \"B\")\n",
    "s = b <+> p1 <+> p2 <+> p3\n",
    "\n",
    "drawStarOrderedPolicySteps $ s"
   ]
  },
  {
   "cell_type": "code",
   "execution_count": null,
   "id": "8d9e792e",
   "metadata": {},
   "outputs": [],
   "source": [
    "import QNKAT.Implementations.AutomataStepHistoryQuantum\n",
    "import QNKAT.Implementations.OneStepHistoryQuantum\n",
    "import QNKAT.PolicyEmbeddings\n",
    "import Data.Functor.Compose         (Compose (..))"
   ]
  },
  {
   "cell_type": "code",
   "execution_count": null,
   "id": "9de906af",
   "metadata": {},
   "outputs": [],
   "source": [
    "meaning @(Ordered StarPolicy _) @(AutomatonStepHistoryQuantum (Compose OneStepPolicy OneStepFree (Maybe _))) $ create \"A\""
   ]
  },
  {
   "cell_type": "code",
   "execution_count": null,
   "id": "082a1373",
   "metadata": {},
   "outputs": [],
   "source": [
    "meaning @(Ordered StarPolicy _) @(AutomatonStepHistoryQuantum (Compose OneStepPolicy OneStepFree (Maybe _))) $ p1"
   ]
  },
  {
   "cell_type": "code",
   "execution_count": null,
   "id": "9c22335b",
   "metadata": {},
   "outputs": [],
   "source": [
    "applyStarOrderedPolicy (create \"A\") []"
   ]
  },
  {
   "cell_type": "code",
   "execution_count": null,
   "id": "27cd2953",
   "metadata": {},
   "outputs": [],
   "source": [
    "p1 = (trans \"A\" (\"A\", \"C\")<||> trans \"B\" (\"C\", \"B\")) <> trans \"A\" (\"A\", \"B\")\n",
    "drawOrderedPolicySteps $ \n",
    "                (create \"A\" <||> create \"A\" <||> create \"A\" ) <> \n",
    "               ( p1 <> swap \"A\" (\"B\", \"C\") <||> p1 <> swap \"A\" (\"B\", \"C\"))"
   ]
  },
  {
   "cell_type": "code",
   "execution_count": null,
   "id": "28eb14f7",
   "metadata": {},
   "outputs": [],
   "source": [
    "pABChecked = (test (\"A\" /~? \"B\") <.> create \"A\" .% dupA <> trans \"A\" (\"A\", \"B\") .% dupA\n",
    "                  <||> test (\"A\" /~? \"B\") <.> create \"A\" .% dupA <> trans \"A\" (\"A\", \"B\") .% dupA)\n",
    "               <> distill (\"A\", \"B\")\n",
    "drawFullOrderedPolicySteps $ \n",
    "    (mempty <+> pABChecked <+> pABChecked <> pABChecked <+> pABChecked <> pABChecked <> pABChecked) \n",
    "    <> test (\"A\" ~~? \"B\")"
   ]
  },
  {
   "cell_type": "code",
   "execution_count": null,
   "id": "db144d5a",
   "metadata": {},
   "outputs": [],
   "source": [
    "pABChecked = (test (\"A\" /~? \"B\") <.> create \"A\" .% dupA <> trans \"A\" (\"A\", \"B\") .% dupA\n",
    "                  <||> test (\"A\" /~? \"B\") <.> create \"A\" .% dupA <> trans \"A\" (\"A\", \"B\") .% dupA)\n",
    "               <> distill (\"A\", \"B\")\n",
    "drawStarOrderedPolicySteps $ star pABChecked"
   ]
  },
  {
   "cell_type": "code",
   "execution_count": null,
   "id": "0b46f632",
   "metadata": {},
   "outputs": [],
   "source": [
    "pABUnchecked = (create \"A\" .% dupA <> trans \"A\" (\"A\", \"B\") .% dupA\n",
    "                  <||> create \"A\" .% dupA <> trans \"A\" (\"A\", \"B\") .% dupA)\n",
    "               <> distill (\"A\", \"B\") .~ 2\n",
    "pABChecked = (test (\"A\" /~? \"B\") <.> create \"A\" .% dupA <> trans \"A\" (\"A\", \"B\") .% dupA\n",
    "                  <||> test (\"A\" /~? \"B\") <.> create \"A\" .% dupA <> trans \"A\" (\"A\", \"B\") .% dupA)\n",
    "               <> distill (\"A\", \"B\") .~ 2\n",
    "drawStarOrderedPolicySteps $ pABUnchecked <> star pABChecked <> test (\"A\" ~~? \"B\") .~ 2"
   ]
  },
  {
   "cell_type": "code",
   "execution_count": null,
   "id": "ec1ae201",
   "metadata": {},
   "outputs": [],
   "source": [
    "drawStarOrderedPolicyStepsBounded $ star (create \"A\")"
   ]
  },
  {
   "cell_type": "code",
   "execution_count": null,
   "id": "f4a90e48",
   "metadata": {},
   "outputs": [],
   "source": [
    ":reload\n",
    "meaning @(Ordered StarPolicy _) @(AutomatonStepHistoryQuantum (Compose OneStepPolicy OneStepFree _)) $ star (create \"A\")"
   ]
  },
  {
   "cell_type": "code",
   "execution_count": null,
   "id": "e662a487",
   "metadata": {},
   "outputs": [],
   "source": [
    "p1 = (trans \"A\" (\"A\", \"C\")<||> trans \"B\" (\"C\", \"B\")) <> trans \"A\" (\"A\", \"B\")\n",
    "p2 = (p1 <> swap \"A\" (\"B\", \"C\") <||> p1 <> swap \"A\" (\"B\", \"C\")) <> distill (\"C\", \"B\")\n",
    "drawPolicy $ \n",
    "               (create \"A\" <||> create \"A\" <||> create \"A\" ) <> \n",
    "               ( p1 <> swap \"A\" (\"B\", \"C\") <||> p1 <> swap \"A\" (\"B\", \"C\") )"
   ]
  },
  {
   "cell_type": "code",
   "execution_count": null,
   "id": "df6dd298",
   "metadata": {},
   "outputs": [],
   "source": [
    "p1 = (trans \"A\" (\"A\", \"C\")<||> trans \"B\" (\"C\", \"B\")) <> trans \"A\" (\"A\", \"B\")     \n",
    "p2 = (p1 <> swap \"A\" (\"B\", \"C\") <||> p1 <> swap \"A\" (\"B\", \"C\")) <> distill (\"C\", \"B\") .% dupA)\n",
    "drawPolicyTimely  $ \n",
    "               (create \"A\" <||> create \"A\" <||> create \"A\" ) <> \n",
    "               ( p1 <> swap \"A\" (\"B\", \"C\") <||> p1 <> swap \"A\" (\"B\", \"C\") )"
   ]
  },
  {
   "cell_type": "code",
   "execution_count": null,
   "id": "71223afa",
   "metadata": {},
   "outputs": [],
   "source": [
    "p1 = (trans \"A\" (\"A\", \"C\") <||> trans \"B\" (\"C\", \"B\")) <> Dup <> trans \"A\" (\"A\", \"B\")     \n",
    "drawPolicySteps  $ \n",
    "               (create \"A\" <||> create \"A\" <||> create \"A\" ) <> Dup <>\n",
    "               ( p1 <> swap \"A\" (\"B\", \"C\") .~ 2 <||> p1 <> swap \"A\" (\"B\", \"C\") .~ 2)"
   ]
  },
  {
   "cell_type": "code",
   "execution_count": null,
   "id": "6dff8c4c",
   "metadata": {},
   "outputs": [],
   "source": [
    "p = (Create \"A\" <||> Create \"B\") <> (Transmit \"A\" (\"A\", \"R[AB]\") <||> Transmit \"B\" (\"B\", \"R[AB]\")) <> Swap \"R[AB]\" (\"A\", \"B\")\n",
    "    \n",
    "drawPolicy $ (p <||> p) <> Distill (\"A\", \"B\")"
   ]
  },
  {
   "cell_type": "code",
   "execution_count": null,
   "id": "872e5c75",
   "metadata": {},
   "outputs": [],
   "source": [
    "drawPolicy $ (create \"A\" <||> create \"A\" <||> create \"A\" <||> create \"B\") <> ((dup $ trans \"A\" (\"A\", \"R[AB]\")) <||> trans \"A\" (\"A\", \"R[AB]\") <||> trans \"B\" (\"B\", \"R[AB]\")) <> swap \"R[AB]\" (\"A\", \"B\")"
   ]
  },
  {
   "cell_type": "code",
   "execution_count": null,
   "id": "89df1654",
   "metadata": {},
   "outputs": [],
   "source": [
    "drawPolicy $ \n",
    "    (Create \"A\" <> Transmit \"A\" (\"A\", \"R[AB]\")) \n",
    "    <||> (Create \"B\" <> Transmit \"A\" (\"A\", \"R[AB]\")) \n",
    "    <||> (Create \"A\" <> Transmit \"B\" (\"B\", \"R[AB]\"))\n",
    "    <||> Create \"B\""
   ]
  },
  {
   "cell_type": "code",
   "execution_count": null,
   "id": "cfff33f0",
   "metadata": {},
   "outputs": [],
   "source": [
    "drawPolicyTimely $ Create \"A\" <||> Create \"A\" <> (Transmit \"A\" (\"A\", \"B\") <||> Create \"A\") <> Swap \"A\" (\"A\", \"B\")"
   ]
  },
  {
   "cell_type": "code",
   "execution_count": null,
   "id": "7626086b",
   "metadata": {},
   "outputs": [],
   "source": [
    "drawPolicyTimely $ \n",
    "    (Create \"A\" <> Transmit \"A\" (\"A\", \"R[AB]\")) \n",
    "    <||> (Create \"B\" <> Transmit \"A\" (\"A\", \"R[AB]\")) \n",
    "    <||> (Create \"A\" <> Transmit \"B\" (\"B\", \"R[AB]\"))\n",
    "    <||> Create \"B\" "
   ]
  },
  {
   "cell_type": "code",
   "execution_count": null,
   "id": "80a3b59c",
   "metadata": {},
   "outputs": [],
   "source": [
    "drawPolicy $ \n",
    "    Create \"A\" <> Transmit \"A\" (\"A\", \"R[AB]\")\n",
    "    <||> Create \"B\" <> Transmit \"A\" (\"A\", \"R[AB]\") \n",
    "    <||> (Create \"A\" <> Transmit \"B\" (\"B\", \"R[AB]\"))  {- here is A,A as expected, above it vanishes -}\n",
    "   "
   ]
  },
  {
   "cell_type": "code",
   "execution_count": null,
   "id": "e8676759",
   "metadata": {
    "scrolled": false
   },
   "outputs": [],
   "source": [
    "drawPolicy $  Create \"A\" <> Transmit \"B\" (\"B\", \"R[AB]\") <||> Create \"B\" <||> Create \"B\" <||> Create \"B\" "
   ]
  },
  {
   "cell_type": "code",
   "execution_count": null,
   "id": "e9c6a5d6",
   "metadata": {
    "scrolled": true
   },
   "outputs": [],
   "source": [
    "drawPolicyTimely $  (Create \"A\" <> Transmit \"B\" (\"B\", \"R[AB]\")) <||> Create \"B\" <||> Create \"B\" <||> Create \"B\" "
   ]
  },
  {
   "cell_type": "code",
   "execution_count": null,
   "id": "d359aad4",
   "metadata": {},
   "outputs": [],
   "source": [
    "drawPolicy $ Create \"B\" <||> Create \"B\" <||> Create \"B\" <||> Transmit \"B\" (\"B\", \"R[AB]\") "
   ]
  },
  {
   "cell_type": "code",
   "execution_count": null,
   "id": "ccbba77f",
   "metadata": {},
   "outputs": [],
   "source": [
    "drawPolicy $ Transmit \"B\" (\"B\", \"R[AB]\") <||> (Create \"B\" <||> Create \"B\" <||> Create \"B\")"
   ]
  },
  {
   "cell_type": "code",
   "execution_count": null,
   "id": "cef00bd3",
   "metadata": {},
   "outputs": [],
   "source": [
    "drawPolicy $  ((Create \"A\" <> Transmit \"B\" (\"B\", \"R[AB]\")) <||> Create \"B\" <||> Create \"B\" <||> Create \"B\" ) <>Transmit \"B\" (\"B\", \"R[AB]\") <||> Transmit \"A\" (\"A\", \"R[AB]\")"
   ]
  },
  {
   "cell_type": "code",
   "execution_count": null,
   "id": "198330aa",
   "metadata": {},
   "outputs": [],
   "source": [
    "drawPolicy $  ( (Create \"A\" <> Transmit \"A\" (\"A\", \"C\")) <||> (Create \"B\" <> Transmit \"B\" (\"A\", \"C\")) <||> (Create \"C\" <> Transmit \"C\" (\"A\", \"C\")) ) <> Distill (\"A\", \"C\")\n",
    "\n"
   ]
  },
  {
   "cell_type": "code",
   "execution_count": null,
   "id": "8bca59dd",
   "metadata": {},
   "outputs": [],
   "source": [
    "drawPolicy $ ( (Create \"A\" <> Transmit \"A\" (\"A\", \"C\")) <||>  (Create \"B\" <> Transmit \"B\" (\"A\", \"C\")) <||> (Create \"C\" <> Transmit \"C\" (\"A\", \"C\")) )   <> Distill (\"A\", \"C\")\n",
    "\n",
    " "
   ]
  },
  {
   "cell_type": "code",
   "execution_count": null,
   "id": "b2aa486f",
   "metadata": {},
   "outputs": [],
   "source": [
    "drawPolicy $   (Create \"A\" <> Transmit \"A\" (\"A\", \"C\")) <||>  ( Create \"B\" <> Transmit \"B\" (\"A\", \"C\") <||> Create \"C\" <> Transmit \"C\" (\"A\", \"C\") )  <> Distill (\"A\", \"C\") \n",
    "\n"
   ]
  },
  {
   "cell_type": "code",
   "execution_count": null,
   "id": "9177c023",
   "metadata": {},
   "outputs": [],
   "source": [
    "drawPolicy $ (Transmit \"B\" (\"B\", \"R[AB]\") <||> Create \"B\"  <> Transmit \"B\" (\"B\", \"R[AB]\") ) <||> Create \"B\""
   ]
  },
  {
   "cell_type": "code",
   "execution_count": null,
   "id": "16fb7e68",
   "metadata": {},
   "outputs": [],
   "source": [
    "drawPolicy $ Transmit \"B\" (\"B\", \"R[AB]\") <||> Create \"B\"  <> Transmit \"B\" (\"B\", \"R[AB]\") "
   ]
  },
  {
   "cell_type": "code",
   "execution_count": null,
   "id": "e895de50",
   "metadata": {},
   "outputs": [],
   "source": [
    "drawPolicy $ \n",
    "    Create \"A\" <> Transmit \"A\" (\"A\", \"R[AB]\")\n",
    "    <||> Create \"B\" <> Transmit \"A\" (\"A\", \"R[AB]\") <||> Create \"A\" \n",
    "   "
   ]
  },
  {
   "cell_type": "code",
   "execution_count": null,
   "id": "84e9a022",
   "metadata": {},
   "outputs": [],
   "source": [
    "drawPolicy $ \n",
    "     Create \"A\" <> Transmit \"A\" (\"A\", \"R[AB]\")\n",
    "    <||> ( Create \"B\" <> Transmit \"A\" (\"A\", \"R[AB]\")  <||> Create \"A\" )\n",
    "   "
   ]
  },
  {
   "cell_type": "code",
   "execution_count": null,
   "id": "aeee4eb2",
   "metadata": {},
   "outputs": [],
   "source": [
    "drawPolicy $ \n",
    "     Create \"A\" \n",
    "    <||>  ( Create \"B\" <> Transmit \"B\" (\"B\", \"R[AB]\")  <||> Create \"A\"  )\n",
    "   "
   ]
  },
  {
   "cell_type": "code",
   "execution_count": null,
   "id": "aac38e42",
   "metadata": {},
   "outputs": [],
   "source": [
    "drawPolicy $ \n",
    "     Create \"A\" \n",
    "    <||>  Create \"B\" <> Transmit \"B\" (\"B\", \"R[AB]\")  <||> Create \"A\" \n",
    "   "
   ]
  },
  {
   "cell_type": "code",
   "execution_count": null,
   "id": "bea13de3",
   "metadata": {},
   "outputs": [],
   "source": [
    "drawPolicy $ \n",
    "    Create \"A\" <> Transmit \"A\" (\"A\", \"R[AB]\")\n",
    "    <||> Create \"B\" <> Transmit \"A\" (\"A\", \"R[AB]\") <||> Create \"A\" <> Transmit \"B\" (\"B\", \"R[AB]\")\n",
    "   "
   ]
  },
  {
   "cell_type": "code",
   "execution_count": null,
   "id": "9962aece",
   "metadata": {},
   "outputs": [],
   "source": [
    "drawPolicy $ \n",
    "    Create \"A\" <> Transmit \"A\" (\"A\", \"R[AB]\")\n",
    "    <||> Create \"B\" <> Transmit \"A\" (\"A\", \"R[AB]\") <||> (Create \"A\" <> Transmit \"B\" (\"B\", \"R[AB]\")) \n",
    "    {- why is here create A on the same level as create B? -}\n",
    "   "
   ]
  },
  {
   "cell_type": "code",
   "execution_count": null,
   "id": "4241221d",
   "metadata": {},
   "outputs": [],
   "source": [
    "drawPolicy $ \n",
    "    (Create \"A\" <||> Create \"B\") <> Transmit \"A\" (\"A\", \"R[AB]\") <> Transmit \"B\" (\"B\", \"R[AB]\")"
   ]
  },
  {
   "cell_type": "code",
   "execution_count": null,
   "id": "5445acc3",
   "metadata": {},
   "outputs": [],
   "source": [
    "drawPolicy $ \n",
    "    Create \"A\"\n",
    "    <> (Transmit \"A\" (\"A\", \"R[AB]\") <||> Create \"B\") \n",
    "    <> (Transmit \"B\" (\"B\", \"R[AB]\") {- <||> Identity (\"A\", \"R[AB]\") -} <||> Create \"B\")\n",
    "    <> (Swap \"R[AB]\" (\"A\", \"B\") {- <||> Identity (\"B\", \"B\") -})"
   ]
  },
  {
   "cell_type": "code",
   "execution_count": null,
   "id": "cdd26260",
   "metadata": {},
   "outputs": [],
   "source": [
    "pAB = (Create \"A\" <||> Create \"B\") <> (Transmit \"A\" (\"A\", \"R[AB]\") <||> Transmit \"B\" (\"B\", \"R[AB]\")) <> Swap \"R[AB]\" (\"A\", \"B\")\n",
    "pCR = ((Create \"C\" <> Transmit \"C\" (\"C\", \"R[BC]\")) <||> (Create \"C\" <> Transmit \"C\" (\"C\", \"R[BC]\"))) <> Distill (\"C\", \"R[BC]\")\n",
    "\n",
    "drawPolicy $ ((pAB <||> pAB) <> Distill (\"A\", \"B\")) <||> (pCR <||> (Create \"B\" <> Transmit \"B\" (\"B\", \"R[BC]\")) )"
   ]
  },
  {
   "cell_type": "code",
   "execution_count": null,
   "id": "d3329723",
   "metadata": {},
   "outputs": [],
   "source": [
    "pAB = (Create \"A\" <||> Create \"B\") <> (Transmit \"A\" (\"A\", \"R[AB]\") <||> Transmit \"B\" (\"B\", \"R[AB]\")) <> Swap \"R[AB]\" (\"A\", \"B\")\n",
    "pCR = ((Create \"C\" <> Transmit \"C\" (\"C\", \"R[BC]\")) <||> (Create \"C\" <> Transmit \"C\" (\"C\", \"R[BC]\"))) <> Distill (\"C\", \"R[BC]\")\n",
    "pBC = (pCR <||> (Create \"B\" <> Transmit \"B\" (\"B\", \"R[BC]\"))) <> Swap \"R[BC]\" (\"B\", \"C\")\n",
    "\n",
    "\n",
    "drawPolicy $ (((pAB <||> pAB) <> Distill (\"A\", \"B\")) <||> pBC ) <> Swap \"B\" (\"A\", \"C\")"
   ]
  },
  {
   "cell_type": "code",
   "execution_count": null,
   "id": "60f47b9e",
   "metadata": {},
   "outputs": [],
   "source": [
    "pAB = (Create \"A\" <||> Create \"B\") <> (Transmit \"A\" (\"A\", \"R[AB]\") <||> Transmit \"B\" (\"B\", \"R[AB]\")) <> Swap \"R[AB]\" (\"A\", \"B\")\n",
    "pCR = ((Create \"C\" <> Transmit \"C\" (\"C\", \"R[BC]\")) <||> (Create \"C\" <> Transmit \"C\" (\"C\", \"R[BC]\"))) <> Distill (\"C\", \"R[BC]\")\n",
    "pBC = (pCR <||> (Create \"B\" <> Transmit \"B\" (\"B\", \"R[BC]\"))) <> Swap \"R[BC]\" (\"B\", \"C\")\n",
    "\n",
    "traceShow \"hie\" $ drawPolicy ((pAB <||> pAB) <> Distill (\"A\", \"B\"))"
   ]
  },
  {
   "cell_type": "code",
   "execution_count": null,
   "id": "a69904cd",
   "metadata": {},
   "outputs": [],
   "source": [
    "drawPolicy $ (Create \"A\" <||> Create \"B\" <||> Create \"C\") <> (Transmit \"A\" (\"A\", \"B\") <||> Transmit \"B\" (\"B\", \"C\") <||> Transmit \"C\" (\"C\", \"A\")) <> Swap \"B\" (\"A\", \"C\")"
   ]
  },
  {
   "cell_type": "code",
   "execution_count": null,
   "id": "a9ce3290",
   "metadata": {
    "scrolled": false
   },
   "outputs": [],
   "source": [
    "p1 = (trans \"S1\" (\"A\", \"R\") <||> trans \"S1\" (\"A\", \"R\")) <> (distill (\"A\", \"R\") .% dupA)\n",
    "p2 = (trans \"S2\" (\"B\", \"R\") <||> trans \"S2\" (\"B\", \"R\")) <> distill (\"B\", \"R\")\n",
    "drawPolicySteps  $ (create \"S1\" <||> create \"S1\"  <||> create \"S2\" <||> create \"S2\") <> (p1 <||> p2) \n",
    "                    <> swap \"R\" (\"A\", \"B\")"
   ]
  },
  {
   "cell_type": "markdown",
   "id": "af3073e5",
   "metadata": {},
   "source": [
    "## Question\n",
    "\n",
    " * Show failures as part of the history? Could be too much of information?\n",
    " * Failures in distill and swap?\n",
    " * reachability in practice (only with some probability)\n",
    " * Simulating the actual run of the policy?\n",
    " * Generate the policy from probability"
   ]
  },
  {
   "cell_type": "markdown",
   "id": "e34b1e3c",
   "metadata": {},
   "source": [
    "## Checking some properties"
   ]
  },
  {
   "cell_type": "code",
   "execution_count": null,
   "id": "81aca05f",
   "metadata": {},
   "outputs": [],
   "source": [
    "qnkatQuickCheck sequentialCompositionIsAssociative\n",
    "qnkatQuickCheck parallelCompositionIsAssociative\n",
    "qnkatQuickCheck parallelCompositionIsCommutative\n",
    "qnkatQuickCheck sequentialCompositionDistributes"
   ]
  },
  {
   "cell_type": "code",
   "execution_count": null,
   "id": "9219023c",
   "metadata": {},
   "outputs": [],
   "source": [
    "b p b p ~b q + b p ~b q + ~b q"
   ]
  },
  {
   "cell_type": "code",
   "execution_count": null,
   "id": "18604838",
   "metadata": {},
   "outputs": [],
   "source": [
    "drawPolicyTimely$   (Create \"A\" <||> Create \"A\" <||> Create \"C\" <||> Create \"B\") <> (Transmit \"A\" (\"A\", \"R[AB]\") <||>Transmit \"C\" (\"A\", \"R[AB]\") <||> Transmit \"B\" (\"B\", \"R[AB]\"))  <> Swap \"R[AB]\" (\"A\", \"B\")\n"
   ]
  },
  {
   "cell_type": "code",
   "execution_count": null,
   "id": "5fa32968",
   "metadata": {},
   "outputs": [],
   "source": []
  }
 ],
 "metadata": {
  "kernelspec": {
   "display_name": "Haskell",
   "language": "haskell",
   "name": "haskell"
  },
  "language_info": {
   "codemirror_mode": "ihaskell",
   "file_extension": ".hs",
   "mimetype": "text/x-haskell",
   "name": "haskell",
   "pygments_lexer": "Haskell",
   "version": "9.0.2"
  }
 },
 "nbformat": 4,
 "nbformat_minor": 5
}
