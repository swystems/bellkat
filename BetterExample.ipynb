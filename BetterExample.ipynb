{
 "cells": [
  {
   "cell_type": "code",
   "execution_count": null,
   "id": "d07a8004",
   "metadata": {},
   "outputs": [],
   "source": [
    ":extension OverloadedStrings\n",
    ":load QNKAT/Definitions.hs\n",
    ":load QNKAT/Drawing.hs\n",
    ":load QNKAT/Test.hs"
   ]
  },
  {
   "cell_type": "markdown",
   "id": "610c304c",
   "metadata": {},
   "source": [
    "[Documentation](https://quantum.pschuprikov.me:8080/?=&hoogle=qnkat%20is%3Apackage&scope=set:all)"
   ]
  },
  {
   "cell_type": "code",
   "execution_count": null,
   "id": "6dff8c4c",
   "metadata": {},
   "outputs": [],
   "source": [
    "p = (Create \"A\" <||> Create \"B\") <> (Transmit \"A\" (\"A\", \"R[AB]\") <||> Transmit \"B\" (\"B\", \"R[AB]\")) <> Swap \"R[AB]\" (\"A\", \"B\")\n",
    "    \n",
    "drawPolicy $ (p <||> p) <> Distill (\"A\", \"B\")"
   ]
  },
  {
   "cell_type": "code",
   "execution_count": null,
   "id": "872e5c75",
   "metadata": {},
   "outputs": [],
   "source": [
    "drawPolicy $ (Create \"A\" <||> Create \"A\" <||> Create \"A\" <||> Create \"B\") <> (Transmit \"A\" (\"A\", \"R[AB]\") <||>Transmit \"A\" (\"A\", \"R[AB]\") <||> Transmit \"B\" (\"B\", \"R[AB]\")) <> Swap \"R[AB]\" (\"A\", \"B\")"
   ]
  },
  {
   "cell_type": "code",
   "execution_count": null,
   "id": "89df1654",
   "metadata": {},
   "outputs": [],
   "source": [
    "drawPolicy $ \n",
    "    (Create \"A\" <> Transmit \"A\" (\"A\", \"R[AB]\")) \n",
    "    <||> (Create \"B\" <> Transmit \"A\" (\"A\", \"R[AB]\")) \n",
    "    <||> (Create \"A\" <> Transmit \"B\" (\"B\", \"R[AB]\"))\n",
    "    <||> Create \"B\" "
   ]
  },
  {
   "cell_type": "code",
   "execution_count": null,
   "id": "acd9d778",
   "metadata": {},
   "outputs": [],
   "source": [
    "drawPolicy $ \n",
    "    Create \"A\" <> Transmit \"A\" (\"A\", \"R[AB]\")\n",
    "    <||> Create \"B\" <> Transmit \"A\" (\"A\", \"R[AB]\") \n",
    "    <||> (Create \"A\" <> Transmit \"B\" (\"B\", \"R[AB]\")) {- where is this A,A? -}\n",
    "    <||> Create \"B\" "
   ]
  },
  {
   "cell_type": "code",
   "execution_count": null,
   "id": "80a3b59c",
   "metadata": {},
   "outputs": [],
   "source": [
    "drawPolicy $ \n",
    "    Create \"A\" <> Transmit \"A\" (\"A\", \"R[AB]\")\n",
    "    <||> Create \"B\" <> Transmit \"A\" (\"A\", \"R[AB]\") \n",
    "    <||> (Create \"A\" <> Transmit \"B\" (\"B\", \"R[AB]\"))  {- here is A,A as expected, above it vanishes -}\n",
    "   "
   ]
  },
  {
   "cell_type": "code",
   "execution_count": null,
   "id": "e8676759",
   "metadata": {
    "scrolled": false
   },
   "outputs": [],
   "source": [
    "drawPolicy $  Create \"A\" <> Transmit \"B\" (\"B\", \"R[AB]\") <||> Create \"B\" <||> Create \"B\" <||> Create \"B\" \n",
    "{- something to do with the lack of () -}"
   ]
  },
  {
   "cell_type": "code",
   "execution_count": null,
   "id": "e9c6a5d6",
   "metadata": {
    "scrolled": true
   },
   "outputs": [],
   "source": [
    "drawPolicy $  (Create \"A\" <> Transmit \"B\" (\"B\", \"R[AB]\")) <||> Create \"B\" <||> Create \"B\" <||> Create \"B\" "
   ]
  },
  {
   "cell_type": "code",
   "execution_count": null,
   "id": "d359aad4",
   "metadata": {},
   "outputs": [],
   "source": [
    "drawPolicy $ Create \"B\" <||> Create \"B\" <||> Create \"B\" <||> Transmit \"B\" (\"B\", \"R[AB]\") "
   ]
  },
  {
   "cell_type": "code",
   "execution_count": null,
   "id": "ccbba77f",
   "metadata": {},
   "outputs": [],
   "source": [
    "drawPolicy $ Transmit \"B\" (\"B\", \"R[AB]\") <||> (Create \"B\" <||> Create \"B\" <||> Create \"B\")"
   ]
  },
  {
   "cell_type": "code",
   "execution_count": null,
   "id": "cef00bd3",
   "metadata": {},
   "outputs": [],
   "source": [
    "drawPolicy $  ((Create \"A\" <> Transmit \"B\" (\"B\", \"R[AB]\")) <||> Create \"B\" <||> Create \"B\" <||> Create \"B\" ) <>Transmit \"B\" (\"B\", \"R[AB]\") <||> Transmit \"A\" (\"A\", \"R[AB]\")"
   ]
  },
  {
   "cell_type": "code",
   "execution_count": null,
   "id": "198330aa",
   "metadata": {},
   "outputs": [],
   "source": [
    "drawPolicy $  ( (Create \"A\" <> Transmit \"A\" (\"A\", \"C\")) <||> (Create \"B\" <> Transmit \"B\" (\"A\", \"C\")) <||> (Create \"C\" <> Transmit \"C\" (\"A\", \"C\")) ) <> Distill (\"A\", \"C\")\n",
    "\n"
   ]
  },
  {
   "cell_type": "code",
   "execution_count": null,
   "id": "8bca59dd",
   "metadata": {},
   "outputs": [],
   "source": [
    "drawPolicy $ ( (Create \"A\" <> Transmit \"A\" (\"A\", \"C\")) <||>  (Create \"B\" <> Transmit \"B\" (\"A\", \"C\")) <||> (Create \"C\" <> Transmit \"C\" (\"A\", \"C\")) )   <> Distill (\"A\", \"C\")\n",
    "\n",
    " "
   ]
  },
  {
   "cell_type": "code",
   "execution_count": null,
   "id": "b2aa486f",
   "metadata": {},
   "outputs": [],
   "source": [
    "drawPolicy $   (Create \"A\" <> Transmit \"A\" (\"A\", \"C\")) <||>  ( Create \"B\" <> Transmit \"B\" (\"A\", \"C\") <||> Create \"C\" <> Transmit \"C\" (\"A\", \"C\") )  <> Distill (\"A\", \"C\") \n",
    "\n"
   ]
  },
  {
   "cell_type": "code",
   "execution_count": null,
   "id": "9177c023",
   "metadata": {},
   "outputs": [],
   "source": [
    "drawPolicy $ (Transmit \"B\" (\"B\", \"R[AB]\") <||> Create \"B\"  <> Transmit \"B\" (\"B\", \"R[AB]\") ) <||> Create \"B\""
   ]
  },
  {
   "cell_type": "code",
   "execution_count": null,
   "id": "16fb7e68",
   "metadata": {},
   "outputs": [],
   "source": [
    "drawPolicy $ Transmit \"B\" (\"B\", \"R[AB]\") <||> Create \"B\"  <> Transmit \"B\" (\"B\", \"R[AB]\") "
   ]
  },
  {
   "cell_type": "code",
   "execution_count": null,
   "id": "e895de50",
   "metadata": {},
   "outputs": [],
   "source": [
    "drawPolicy $ \n",
    "    Create \"A\" <> Transmit \"A\" (\"A\", \"R[AB]\")\n",
    "    <||> Create \"B\" <> Transmit \"A\" (\"A\", \"R[AB]\") <||> Create \"A\" \n",
    "   "
   ]
  },
  {
   "cell_type": "code",
   "execution_count": null,
   "id": "84e9a022",
   "metadata": {},
   "outputs": [],
   "source": [
    "drawPolicy $ \n",
    "     Create \"A\" <> Transmit \"A\" (\"A\", \"R[AB]\")\n",
    "    <||> ( Create \"B\" <> Transmit \"A\" (\"A\", \"R[AB]\")  <||> Create \"A\" )\n",
    "   "
   ]
  },
  {
   "cell_type": "code",
   "execution_count": null,
   "id": "aeee4eb2",
   "metadata": {},
   "outputs": [],
   "source": [
    "drawPolicy $ \n",
    "     Create \"A\" \n",
    "    <||>  ( Create \"B\" <> Transmit \"B\" (\"B\", \"R[AB]\")  <||> Create \"A\"  )\n",
    "   "
   ]
  },
  {
   "cell_type": "code",
   "execution_count": null,
   "id": "aac38e42",
   "metadata": {},
   "outputs": [],
   "source": [
    "drawPolicy $ \n",
    "     Create \"A\" \n",
    "    <||>  Create \"B\" <> Transmit \"B\" (\"B\", \"R[AB]\")  <||> Create \"A\" \n",
    "   "
   ]
  },
  {
   "cell_type": "code",
   "execution_count": null,
   "id": "bea13de3",
   "metadata": {},
   "outputs": [],
   "source": [
    "drawPolicy $ \n",
    "    Create \"A\" <> Transmit \"A\" (\"A\", \"R[AB]\")\n",
    "    <||> Create \"B\" <> Transmit \"A\" (\"A\", \"R[AB]\") <||> Create \"A\" <> Transmit \"B\" (\"B\", \"R[AB]\")\n",
    "   "
   ]
  },
  {
   "cell_type": "code",
   "execution_count": null,
   "id": "9962aece",
   "metadata": {},
   "outputs": [],
   "source": [
    "drawPolicy $ \n",
    "    Create \"A\" <> Transmit \"A\" (\"A\", \"R[AB]\")\n",
    "    <||> Create \"B\" <> Transmit \"A\" (\"A\", \"R[AB]\") <||> (Create \"A\" <> Transmit \"B\" (\"B\", \"R[AB]\")) \n",
    "    {- why is here create A on the same level as create B? -}\n",
    "   "
   ]
  },
  {
   "cell_type": "code",
   "execution_count": null,
   "id": "4241221d",
   "metadata": {},
   "outputs": [],
   "source": [
    "drawPolicy $ \n",
    "    (Create \"A\" <||> Create \"B\") <> Transmit \"A\" (\"A\", \"R[AB]\") <> Transmit \"B\" (\"B\", \"R[AB]\")"
   ]
  },
  {
   "cell_type": "code",
   "execution_count": null,
   "id": "5445acc3",
   "metadata": {},
   "outputs": [],
   "source": [
    "drawPolicy $ \n",
    "    Create \"A\"\n",
    "    <> (Transmit \"A\" (\"A\", \"R[AB]\") <||> Create \"B\") \n",
    "    <> (Transmit \"B\" (\"B\", \"R[AB]\") {- <||> Identity (\"A\", \"R[AB]\") -} <||> Create \"B\")\n",
    "    <> (Swap \"R[AB]\" (\"A\", \"B\") {- <||> Identity (\"B\", \"B\") -})"
   ]
  },
  {
   "cell_type": "code",
   "execution_count": null,
   "id": "cdd26260",
   "metadata": {},
   "outputs": [],
   "source": [
    "pAB = (Create \"A\" <||> Create \"B\") <> (Transmit \"A\" (\"A\", \"R[AB]\") <||> Transmit \"B\" (\"B\", \"R[AB]\")) <> Swap \"R[AB]\" (\"A\", \"B\")\n",
    "pCR = ((Create \"C\" <> Transmit \"C\" (\"C\", \"R[BC]\")) <||> (Create \"C\" <> Transmit \"C\" (\"C\", \"R[BC]\"))) <> Distill (\"C\", \"R[BC]\")\n",
    "\n",
    "drawPolicy $ ((pAB <||> pAB) <> Distill (\"A\", \"B\")) <||> (pCR <||> (Create \"B\" <> Transmit \"B\" (\"B\", \"R[BC]\")) )"
   ]
  },
  {
   "cell_type": "code",
   "execution_count": null,
   "id": "d3329723",
   "metadata": {},
   "outputs": [],
   "source": [
    "pAB = (Create \"A\" <||> Create \"B\") <> (Transmit \"A\" (\"A\", \"R[AB]\") <||> Transmit \"B\" (\"B\", \"R[AB]\")) <> Swap \"R[AB]\" (\"A\", \"B\")\n",
    "pCR = ((Create \"C\" <> Transmit \"C\" (\"C\", \"R[BC]\")) <||> (Create \"C\" <> Transmit \"C\" (\"C\", \"R[BC]\"))) <> Distill (\"C\", \"R[BC]\")\n",
    "pBC = (pCR <||> (Create \"B\" <> Transmit \"B\" (\"B\", \"R[BC]\"))) <> Swap \"R[BC]\" (\"B\", \"C\")\n",
    "\n",
    "\n",
    "drawPolicy $ (((pAB <||> pAB) <> Distill (\"A\", \"B\")) <||> pBC ) <> Swap \"B\" (\"A\", \"C\")"
   ]
  },
  {
   "cell_type": "code",
   "execution_count": null,
   "id": "60f47b9e",
   "metadata": {},
   "outputs": [],
   "source": [
    "pAB = (Create \"A\" <||> Create \"B\") <> (Transmit \"A\" (\"A\", \"R[AB]\") <||> Transmit \"B\" (\"B\", \"R[AB]\")) <> Swap \"R[AB]\" (\"A\", \"B\")\n",
    "pCR = ((Create \"C\" <> Transmit \"C\" (\"C\", \"R[BC]\")) <||> (Create \"C\" <> Transmit \"C\" (\"C\", \"R[BC]\"))) <> Distill (\"C\", \"R[BC]\")\n",
    "pBC = (pCR <||> (Create \"B\" <> Transmit \"B\" (\"B\", \"R[BC]\"))) <> Swap \"R[BC]\" (\"B\", \"C\")\n",
    "\n",
    "drawPolicy ((pAB <||> pAB) <> Distill (\"A\", \"B\"))"
   ]
  },
  {
   "cell_type": "code",
   "execution_count": null,
   "id": "a69904cd",
   "metadata": {},
   "outputs": [],
   "source": [
    "drawPolicy $ (Create \"A\" <||> Create \"B\" <||> Create \"C\") <> (Transmit \"A\" (\"A\", \"B\") <||> Transmit \"B\" (\"B\", \"C\") <||> Transmit \"C\" (\"C\", \"A\")) <> Swap \"B\" (\"A\", \"C\")"
   ]
  },
  {
   "cell_type": "markdown",
   "id": "af3073e5",
   "metadata": {},
   "source": [
    "## Question\n",
    "\n",
    " * Show failures as part of the history? Could be too much of information?\n",
    " * Failures in distill and swap?\n",
    " * reachability in practice (only with some probability)\n",
    " * Simulating the actual run of the policy?\n",
    " * Generate the policy from probability"
   ]
  },
  {
   "cell_type": "markdown",
   "id": "e34b1e3c",
   "metadata": {},
   "source": [
    "## Checking some properties"
   ]
  },
  {
   "cell_type": "code",
   "execution_count": null,
   "id": "81aca05f",
   "metadata": {},
   "outputs": [],
   "source": [
    "qnkatQuickCheck sequentialCompositionIsAssociative\n",
    "qnkatQuickCheck parallelCompositionIsAssociative\n",
    "qnkatQuickCheck parallelCompositionIsCommutative\n",
    "qnkatQuickCheck sequentialCompositionDistributes"
   ]
  },
  {
   "cell_type": "code",
   "execution_count": null,
   "id": "18604838",
   "metadata": {},
   "outputs": [],
   "source": []
  }
 ],
 "metadata": {
  "kernelspec": {
   "display_name": "Haskell",
   "language": "haskell",
   "name": "haskell"
  },
  "language_info": {
   "codemirror_mode": "ihaskell",
   "file_extension": ".hs",
   "mimetype": "text/x-haskell",
   "name": "haskell",
   "pygments_lexer": "Haskell",
   "version": "9.0.2"
  }
 },
 "nbformat": 4,
 "nbformat_minor": 5
}
